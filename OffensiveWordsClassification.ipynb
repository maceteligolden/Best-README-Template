{
  "nbformat": 4,
  "nbformat_minor": 0,
  "metadata": {
    "colab": {
      "provenance": [],
      "mount_file_id": "1Nc23A-zkhkl3b4mr-uMI6Y0cBdPz322a",
      "authorship_tag": "ABX9TyOC6U7lcEeWx+sjUj/1TG5v",
      "include_colab_link": true
    },
    "kernelspec": {
      "name": "python3",
      "display_name": "Python 3"
    },
    "language_info": {
      "name": "python"
    }
  },
  "cells": [
    {
      "cell_type": "markdown",
      "metadata": {
        "id": "view-in-github",
        "colab_type": "text"
      },
      "source": [
        "<a href=\"https://colab.research.google.com/github/maceteligolden/Best-README-Template/blob/master/OffensiveWordsClassification.ipynb\" target=\"_parent\"><img src=\"https://colab.research.google.com/assets/colab-badge.svg\" alt=\"Open In Colab\"/></a>"
      ]
    },
    {
      "cell_type": "code",
      "execution_count": 123,
      "metadata": {
        "colab": {
          "base_uri": "https://localhost:8080/"
        },
        "id": "pZNXHqnu8p9a",
        "outputId": "b69620cb-cf42-494c-e19b-857487f3681a"
      },
      "outputs": [
        {
          "output_type": "stream",
          "name": "stdout",
          "text": [
            "Requirement already satisfied: gensim in /usr/local/lib/python3.10/dist-packages (4.3.2)\n",
            "Requirement already satisfied: numpy>=1.18.5 in /usr/local/lib/python3.10/dist-packages (from gensim) (1.25.2)\n",
            "Requirement already satisfied: scipy>=1.7.0 in /usr/local/lib/python3.10/dist-packages (from gensim) (1.11.4)\n",
            "Requirement already satisfied: smart-open>=1.8.1 in /usr/local/lib/python3.10/dist-packages (from gensim) (7.0.4)\n",
            "Requirement already satisfied: wrapt in /usr/local/lib/python3.10/dist-packages (from smart-open>=1.8.1->gensim) (1.14.1)\n"
          ]
        }
      ],
      "source": [
        "!pip install gensim\n"
      ]
    },
    {
      "cell_type": "markdown",
      "source": [
        "Importing all necessary libaries"
      ],
      "metadata": {
        "id": "vUPRWkGZFsO5"
      }
    },
    {
      "cell_type": "code",
      "source": [
        "import nltk\n",
        "from nltk.corpus import stopwords\n",
        "from nltk import pos_tag\n",
        "from nltk.tokenize import word_tokenize, sent_tokenize\n",
        "from nltk.stem import PorterStemmer, WordNetLemmatizer\n",
        "from gensim.models import Word2Vec\n",
        "from sklearn.preprocessing import LabelEncoder\n",
        "from sklearn.feature_extraction.text import CountVectorizer\n",
        "from sklearn.feature_extraction.text import TfidfVectorizer\n",
        "from sklearn.metrics import precision_recall_fscore_support, accuracy_score, confusion_matrix\n",
        "from sklearn.metrics import mean_squared_error,r2_score,classification_report,roc_auc_score,roc_curve\n",
        "from sklearn.ensemble import RandomForestClassifier\n",
        "from sklearn.linear_model import LogisticRegression\n",
        "from sklearn.tree import DecisionTreeClassifier\n",
        "from sklearn import metrics\n",
        "from sklearn import model_selection, svm\n",
        "from sklearn.model_selection import train_test_split,GridSearchCV,cross_val_score\n",
        "from sklearn.preprocessing import scale,StandardScaler\n",
        "from sklearn.svm import SVC\n",
        "from sklearn.naive_bayes import MultinomialNB\n",
        "from sklearn.pipeline import Pipeline\n",
        "from imblearn.over_sampling import RandomOverSampler\n",
        "from imblearn.under_sampling import RandomUnderSampler\n",
        "import matplotlib.pyplot as plt\n",
        "import seaborn as sns\n",
        "import string\n",
        "import re\n",
        "import codecs\n",
        "import glob\n",
        "import os\n",
        "import random\n",
        "import pandas as pd\n",
        "import numpy as np\n",
        "from scipy.sparse import hstack"
      ],
      "metadata": {
        "id": "S9jvHm3i9dXr"
      },
      "execution_count": 1,
      "outputs": []
    },
    {
      "cell_type": "markdown",
      "source": [
        "Downloadding all need nltk packages"
      ],
      "metadata": {
        "id": "2L1osd3aFx94"
      }
    },
    {
      "cell_type": "code",
      "source": [
        "nltk.download('punkt')\n",
        "nltk.download('stopwords')\n",
        "nltk.download('wordnet')\n",
        "nltk.download('averaged_perceptron_tagger')"
      ],
      "metadata": {
        "colab": {
          "base_uri": "https://localhost:8080/"
        },
        "id": "JPIJ7x0G9i1P",
        "outputId": "ed91328b-7dd9-443a-a149-2e17651d23d8"
      },
      "execution_count": 2,
      "outputs": [
        {
          "output_type": "stream",
          "name": "stderr",
          "text": [
            "[nltk_data] Downloading package punkt to /root/nltk_data...\n",
            "[nltk_data]   Unzipping tokenizers/punkt.zip.\n",
            "[nltk_data] Downloading package stopwords to /root/nltk_data...\n",
            "[nltk_data]   Unzipping corpora/stopwords.zip.\n",
            "[nltk_data] Downloading package wordnet to /root/nltk_data...\n",
            "[nltk_data] Downloading package averaged_perceptron_tagger to\n",
            "[nltk_data]     /root/nltk_data...\n",
            "[nltk_data]   Unzipping taggers/averaged_perceptron_tagger.zip.\n"
          ]
        },
        {
          "output_type": "execute_result",
          "data": {
            "text/plain": [
              "True"
            ]
          },
          "metadata": {},
          "execution_count": 2
        }
      ]
    },
    {
      "cell_type": "markdown",
      "source": [
        "Assigning all global constant to variables"
      ],
      "metadata": {
        "id": "Hn_ctGXGF2jv"
      }
    },
    {
      "cell_type": "code",
      "source": [
        "stopwords = set(nltk.corpus.stopwords.words('english'))\n",
        "training_dataset_path=\"/content/drive/MyDrive/dataset/olid-training-v1.0.tsv\"\n",
        "testing_dataset_path=\"/content/drive/MyDrive/dataset/testset-levela.tsv\"\n",
        "testing_label_path=\"/content/drive/MyDrive/dataset/labels-levela.csv\""
      ],
      "metadata": {
        "id": "DPQ5_hdO-G3t"
      },
      "execution_count": 3,
      "outputs": []
    },
    {
      "cell_type": "markdown",
      "source": [
        "Utility functions for removing emojis, cleaning up tweets, plotting graphs, and preprocessing of the dataset"
      ],
      "metadata": {
        "id": "goXXNWe5GENH"
      }
    },
    {
      "cell_type": "code",
      "source": [
        "def remove_emojis(text):\n",
        "    emoji_pattern = re.compile(\"[\"\n",
        "                               u\"\\U0001F600-\\U0001F64F\"  # emoticons\n",
        "                               u\"\\U0001F300-\\U0001F5FF\"  # symbols & pictographs\n",
        "                               u\"\\U0001F680-\\U0001F6FF\"  # transport & map symbols\n",
        "                               u\"\\U0001F1E0-\\U0001F1FF\"  # flags (iOS)\n",
        "                               u\"\\U00002500-\\U00002BEF\"  # chinese char\n",
        "                               u\"\\U00002702-\\U000027B0\"\n",
        "                               u\"\\U00002702-\\U000027B0\"\n",
        "                               u\"\\U000024C2-\\U0001F251\"\n",
        "                               u\"\\U0001f926-\\U0001f937\"\n",
        "                               u\"\\U00010000-\\U0010ffff\"\n",
        "                               u\"\\u2640-\\u2642\"\n",
        "                               u\"\\u2600-\\u2B55\"\n",
        "                               u\"\\u200d\"\n",
        "                               u\"\\u23cf\"\n",
        "                               u\"\\u23e9\"\n",
        "                               u\"\\u231a\"\n",
        "                               u\"\\ufe0f\"  # dingbats\n",
        "                               u\"\\u3030\"\n",
        "                               \"]+\", flags=re.UNICODE)\n",
        "    return emoji_pattern.sub(r'', text)\n",
        "\n",
        "def clean_tweets(df):\n",
        "    tweets = df.loc[:, 'tweet']\n",
        "    for index, tweet in enumerate(tweets):\n",
        "      text=re.sub(r'^https?:\\/\\/.*[\\r\\n]*', '', tweet, flags=re.MULTILINE)\n",
        "      text=re.sub('[“\"”]',' \" ',text)\n",
        "      text= text.replace(\"@USER\", \"\")\n",
        "      text= text.replace(\"URL\", \"\")\n",
        "      text = remove_emojis(text)\n",
        "      text = text.translate(str.maketrans('', '', string.punctuation))\n",
        "      tweets[index] = text\n",
        "\n",
        "def plot_classes(df,col_name):\n",
        "    fig = plt.figure(figsize=(6,4))\n",
        "    print(df.groupby(col_name)[col_name].count())\n",
        "    df.groupby(col_name)[col_name].count().plot.bar(ylim=0)\n",
        "    plt.show()\n",
        "\n",
        "def preprocess(df):\n",
        "    tweets = df.loc[:, 'tweet']\n",
        "    stop_words = set(nltk.corpus.stopwords.words('english'))\n",
        "    for index, tweet in enumerate(tweets):\n",
        "        words = nltk.word_tokenize(tweet)\n",
        "        words = [word for word in words if word.lower() not in stop_words]\n",
        "        tweets[index] = ' '.join(words)\n"
      ],
      "metadata": {
        "id": "v0Of0ruiGvS6"
      },
      "execution_count": 36,
      "outputs": []
    },
    {
      "cell_type": "markdown",
      "source": [
        "Extracting training tweets and labels from training data set"
      ],
      "metadata": {
        "id": "pDrjLnZNGsCf"
      }
    },
    {
      "cell_type": "code",
      "source": [
        "if __name__ == \"__main__\":\n",
        "    # Read test and training data\n",
        "    train_data = pd.read_csv(training_dataset_path, delimiter='\\t', encoding='utf-8')\n",
        "    test_tweet_a = pd.read_csv(testing_dataset_path, delimiter='\\t', encoding='utf-8')\n",
        "    test_label_a = pd.read_csv(testing_label_path, encoding='utf-8', index_col=False, names=['id', 'label'])\n",
        "\n",
        "    # Extract training tweets and labels from training data\n",
        "    train_tweets = train_data[['tweet']]\n",
        "    print(train_tweets.head(), \"\\n\")\n",
        "    train_task_label = train_data[['subtask_a']]\n",
        "    print(train_task_label.head(), \"\\n\")\n",
        "    train_task_label.columns = ['label']\n",
        "\n",
        "\n",
        "    # Extract test tweets and labels from test data\n",
        "    train_task_a_data = pd.concat([train_tweets, train_task_label], axis=1)\n",
        "    test_tweet_a = test_tweet_a.merge(test_label_a, on='id').drop(columns='id')\n",
        "\n",
        "    # Plot class distribution in training set\n",
        "    print(f\"Training set class distribution:\")\n",
        "    plot_classes(train_task_a_data, \"label\")\n",
        "    print(\"\\n\")\n",
        "    print(f\"Test set class distribution:\")\n",
        "    plot_classes(test_tweet_a, \"label\")\n",
        "    print(\"\\n\")\n",
        "\n",
        "    # Clean and preprocess training tweets in training set\n",
        "    clean_tweets(train_tweets)\n",
        "    print(f\"Sample of cleaned tweets\")\n",
        "    print(train_tweets.head())\n",
        "    print(\"\\n\")\n",
        "    preprocess(train_tweets)\n",
        "    print(f\"Sample of preprocessed tweets\")\n",
        "    print(train_tweets.head())\n",
        "    print(\"\\n\")\n",
        "\n",
        "    # Clean and preprocess test tweets in test set\n",
        "    clean_tweets(test_tweet_a)\n",
        "    preprocess(test_tweet_a)\n",
        "\n",
        "    # Combine tweets with labels\n",
        "    test_tweet_a = test_tweet_a[['tweet', 'label']]\n",
        "\n",
        "    # Split the training data into training and validation sets\n",
        "    X_train, X_val, y_train, y_val = train_test_split(train_task_a_data['tweet'], train_task_a_data['label'], test_size=0.2, random_state=42)\n",
        "\n",
        "    # Initialize classifiers and their parameter grids for GridSearchCV\n",
        "    param_grids = {\n",
        "        'SVM': {\n",
        "            'classifier__C': [0.1, 1, 10],\n",
        "            'classifier__kernel': ['linear', 'rbf'],\n",
        "        },\n",
        "        'Naive Bayes': {\n",
        "            'classifier__alpha': [0.1, 0.5, 1.0],\n",
        "        },\n",
        "        'Random Forest': {\n",
        "            'classifier__n_estimators': [50, 100, 200],\n",
        "            'classifier__max_depth': [None, 10, 20],\n",
        "        },\n",
        "        'Logistic Regression': {\n",
        "            'classifier__C': [0.1, 1, 10],\n",
        "            'classifier__max_iter': [100, 200, 500],\n",
        "        }\n",
        "    }\n",
        "\n",
        "    classifiers = {\n",
        "        'SVM': SVC(),\n",
        "        'Naive Bayes': MultinomialNB(),\n",
        "        'Random Forest': RandomForestClassifier(random_state=42),\n",
        "        'Logistic Regression': LogisticRegression(random_state=42)\n",
        "    }\n",
        "\n",
        "    # Initialize TF-IDF vectorizer\n",
        "    tfidf_vectorizer = TfidfVectorizer(sublinear_tf=True, min_df=5, norm='l2', ngram_range=(1, 2), stop_words='english')\n",
        "\n",
        "    # Feature extraction with TF-IDF\n",
        "    X_train_tfidf = tfidf_vectorizer.fit_transform(X_train)\n",
        "    X_val_tfidf = tfidf_vectorizer.transform(X_val)\n",
        "    X_test_tfidf = tfidf_vectorizer.transform(test_tweet_a['tweet'])\n",
        "\n",
        "    # Train and evaluate classifiers with TF-IDF features using GridSearchCV\n",
        "    for name, clf in classifiers.items():\n",
        "        print(\"\\n\")\n",
        "        print(f\"Training and evaluating {name} with TF-IDF features and Grid Search...\")\n",
        "        pipeline = Pipeline([\n",
        "            ('classifier', clf)\n",
        "        ])\n",
        "        grid_search = GridSearchCV(pipeline, param_grids[name], cv=5, scoring='accuracy')\n",
        "        grid_search.fit(X_train_tfidf, y_train)\n",
        "\n",
        "        print(f\"Best parameters for {name}: {grid_search.best_params_}\")\n",
        "\n",
        "        # Evaluate on validation set\n",
        "        y_val_pred = grid_search.predict(X_val_tfidf)\n",
        "        val_accuracy = accuracy_score(y_val, y_val_pred)\n",
        "        print(f\"{name} model validation accuracy: {val_accuracy:.4f}\")\n",
        "        print(\"Validation classification report:\")\n",
        "        print(classification_report(y_val, y_val_pred))\n",
        "\n",
        "        # Evaluate on test set\n",
        "        y_test_pred = grid_search.predict(X_test_tfidf)\n",
        "        test_accuracy = accuracy_score(test_tweet_a['label'], y_test_pred)\n",
        "        print(f\"{name} model test accuracy: {test_accuracy:.4f}\")\n",
        "        print(\"Test classification report:\")\n",
        "        print(classification_report(test_tweet_a['label'], y_test_pred))\n",
        "        print(\"\\n\")\n"
      ],
      "metadata": {
        "colab": {
          "base_uri": "https://localhost:8080/",
          "height": 1000
        },
        "id": "qrNMYH3VBqKz",
        "outputId": "482363bc-a055-4dd6-c53a-4ae9cb4edd7c"
      },
      "execution_count": 37,
      "outputs": [
        {
          "output_type": "stream",
          "name": "stdout",
          "text": [
            "                                               tweet\n",
            "0  @USER She should ask a few native Americans wh...\n",
            "1  @USER @USER Go home you’re drunk!!! @USER #MAG...\n",
            "2  Amazon is investigating Chinese employees who ...\n",
            "3  @USER Someone should'veTaken\" this piece of sh...\n",
            "4  @USER @USER Obama wanted liberals &amp; illega... \n",
            "\n",
            "  subtask_a\n",
            "0       OFF\n",
            "1       OFF\n",
            "2       NOT\n",
            "3       OFF\n",
            "4       NOT \n",
            "\n",
            "Training set class distribution:\n",
            "label\n",
            "NOT    8840\n",
            "OFF    4400\n",
            "Name: label, dtype: int64\n"
          ]
        },
        {
          "output_type": "display_data",
          "data": {
            "text/plain": [
              "<Figure size 600x400 with 1 Axes>"
            ],
            "image/png": "[encoded data removed]"
          },
          "metadata": {}
        },
        {
          "output_type": "stream",
          "name": "stdout",
          "text": [
            "\n",
            "\n",
            "Test set class distribution:\n",
            "label\n",
            "NOT    620\n",
            "OFF    240\n",
            "Name: label, dtype: int64\n"
          ]
        },
        {
          "output_type": "display_data",
          "data": {
            "text/plain": [
              "<Figure size 600x400 with 1 Axes>"
            ],
            "image/png": "[encoded data removed]"
          },
          "metadata": {}
        },
        {
          "output_type": "stream",
          "name": "stdout",
          "text": [
            "\n",
            "\n"
          ]
        },
        {
          "output_type": "stream",
          "name": "stderr",
          "text": [
            "<ipython-input-36-3bf08a6dd483>:33: SettingWithCopyWarning: \n",
            "A value is trying to be set on a copy of a slice from a DataFrame\n",
            "\n",
            "See the caveats in the documentation: https://pandas.pydata.org/pandas-docs/stable/user_guide/indexing.html#returning-a-view-versus-a-copy\n",
            "  tweets[index] = text\n"
          ]
        },
        {
          "output_type": "stream",
          "name": "stdout",
          "text": [
            "Sample of cleaned tweets\n",
            "                                               tweet\n",
            "0   She should ask a few native Americans what th...\n",
            "1             Go home you’re drunk  MAGA Trump2020  \n",
            "2  Amazon is investigating Chinese employees who ...\n",
            "3   Someone shouldveTaken   this piece of shit to...\n",
            "4    Obama wanted liberals amp illegals to move i...\n",
            "\n",
            "\n"
          ]
        },
        {
          "output_type": "stream",
          "name": "stderr",
          "text": [
            "<ipython-input-36-3bf08a6dd483>:47: SettingWithCopyWarning: \n",
            "A value is trying to be set on a copy of a slice from a DataFrame\n",
            "\n",
            "See the caveats in the documentation: https://pandas.pydata.org/pandas-docs/stable/user_guide/indexing.html#returning-a-view-versus-a-copy\n",
            "  tweets[index] = ' '.join(words)\n"
          ]
        },
        {
          "output_type": "stream",
          "name": "stdout",
          "text": [
            "Sample of preprocessed tweets\n",
            "                                               tweet\n",
            "0                          ask native Americans take\n",
            "1                     Go home ’ drunk MAGA Trump2020\n",
            "2  Amazon investigating Chinese employees selling...\n",
            "3           Someone shouldveTaken piece shit volcano\n",
            "4  Obama wanted liberals amp illegals move red st...\n",
            "\n",
            "\n",
            "\n",
            "\n",
            "Training and evaluating SVM with TF-IDF features and Grid Search...\n",
            "Best parameters for SVM: {'classifier__C': 1, 'classifier__kernel': 'linear'}\n",
            "SVM model validation accuracy: 0.7617\n",
            "Validation classification report:\n",
            "              precision    recall  f1-score   support\n",
            "\n",
            "         NOT       0.76      0.92      0.84      1733\n",
            "         OFF       0.76      0.46      0.57       915\n",
            "\n",
            "    accuracy                           0.76      2648\n",
            "   macro avg       0.76      0.69      0.70      2648\n",
            "weighted avg       0.76      0.76      0.74      2648\n",
            "\n",
            "SVM model test accuracy: 0.8174\n",
            "Test classification report:\n",
            "              precision    recall  f1-score   support\n",
            "\n",
            "         NOT       0.83      0.94      0.88       620\n",
            "         OFF       0.75      0.51      0.61       240\n",
            "\n",
            "    accuracy                           0.82       860\n",
            "   macro avg       0.79      0.72      0.75       860\n",
            "weighted avg       0.81      0.82      0.81       860\n",
            "\n",
            "\n",
            "\n",
            "\n",
            "\n",
            "Training and evaluating Naive Bayes with TF-IDF features and Grid Search...\n",
            "Best parameters for Naive Bayes: {'classifier__alpha': 0.5}\n",
            "Naive Bayes model validation accuracy: 0.7387\n",
            "Validation classification report:\n",
            "              precision    recall  f1-score   support\n",
            "\n",
            "         NOT       0.73      0.94      0.82      1733\n",
            "         OFF       0.76      0.36      0.49       915\n",
            "\n",
            "    accuracy                           0.74      2648\n",
            "   macro avg       0.75      0.65      0.66      2648\n",
            "weighted avg       0.74      0.74      0.71      2648\n",
            "\n",
            "Naive Bayes model test accuracy: 0.7942\n",
            "Test classification report:\n",
            "              precision    recall  f1-score   support\n",
            "\n",
            "         NOT       0.81      0.94      0.87       620\n",
            "         OFF       0.73      0.42      0.53       240\n",
            "\n",
            "    accuracy                           0.79       860\n",
            "   macro avg       0.77      0.68      0.70       860\n",
            "weighted avg       0.79      0.79      0.77       860\n",
            "\n",
            "\n",
            "\n",
            "\n",
            "\n",
            "Training and evaluating Random Forest with TF-IDF features and Grid Search...\n",
            "Best parameters for Random Forest: {'classifier__max_depth': None, 'classifier__n_estimators': 100}\n",
            "Random Forest model validation accuracy: 0.7534\n",
            "Validation classification report:\n",
            "              precision    recall  f1-score   support\n",
            "\n",
            "         NOT       0.75      0.93      0.83      1733\n",
            "         OFF       0.75      0.43      0.54       915\n",
            "\n",
            "    accuracy                           0.75      2648\n",
            "   macro avg       0.75      0.68      0.69      2648\n",
            "weighted avg       0.75      0.75      0.73      2648\n",
            "\n",
            "Random Forest model test accuracy: 0.8279\n",
            "Test classification report:\n",
            "              precision    recall  f1-score   support\n",
            "\n",
            "         NOT       0.84      0.95      0.89       620\n",
            "         OFF       0.79      0.52      0.63       240\n",
            "\n",
            "    accuracy                           0.83       860\n",
            "   macro avg       0.82      0.73      0.76       860\n",
            "weighted avg       0.82      0.83      0.82       860\n",
            "\n",
            "\n",
            "\n",
            "\n",
            "\n",
            "Training and evaluating Logistic Regression with TF-IDF features and Grid Search...\n"
          ]
        },
        {
          "output_type": "stream",
          "name": "stderr",
          "text": [
            "/usr/local/lib/python3.10/dist-packages/sklearn/linear_model/_logistic.py:458: ConvergenceWarning: lbfgs failed to converge (status=1):\n",
            "STOP: TOTAL NO. of ITERATIONS REACHED LIMIT.\n",
            "\n",
            "Increase the number of iterations (max_iter) or scale the data as shown in:\n",
            "    https://scikit-learn.org/stable/modules/preprocessing.html\n",
            "Please also refer to the documentation for alternative solver options:\n",
            "    https://scikit-learn.org/stable/modules/linear_model.html#logistic-regression\n",
            "  n_iter_i = _check_optimize_result(\n",
            "/usr/local/lib/python3.10/dist-packages/sklearn/linear_model/_logistic.py:458: ConvergenceWarning: lbfgs failed to converge (status=1):\n",
            "STOP: TOTAL NO. of ITERATIONS REACHED LIMIT.\n",
            "\n",
            "Increase the number of iterations (max_iter) or scale the data as shown in:\n",
            "    https://scikit-learn.org/stable/modules/preprocessing.html\n",
            "Please also refer to the documentation for alternative solver options:\n",
            "    https://scikit-learn.org/stable/modules/linear_model.html#logistic-regression\n",
            "  n_iter_i = _check_optimize_result(\n",
            "/usr/local/lib/python3.10/dist-packages/sklearn/linear_model/_logistic.py:458: ConvergenceWarning: lbfgs failed to converge (status=1):\n",
            "STOP: TOTAL NO. of ITERATIONS REACHED LIMIT.\n",
            "\n",
            "Increase the number of iterations (max_iter) or scale the data as shown in:\n",
            "    https://scikit-learn.org/stable/modules/preprocessing.html\n",
            "Please also refer to the documentation for alternative solver options:\n",
            "    https://scikit-learn.org/stable/modules/linear_model.html#logistic-regression\n",
            "  n_iter_i = _check_optimize_result(\n",
            "/usr/local/lib/python3.10/dist-packages/sklearn/linear_model/_logistic.py:458: ConvergenceWarning: lbfgs failed to converge (status=1):\n",
            "STOP: TOTAL NO. of ITERATIONS REACHED LIMIT.\n",
            "\n",
            "Increase the number of iterations (max_iter) or scale the data as shown in:\n",
            "    https://scikit-learn.org/stable/modules/preprocessing.html\n",
            "Please also refer to the documentation for alternative solver options:\n",
            "    https://scikit-learn.org/stable/modules/linear_model.html#logistic-regression\n",
            "  n_iter_i = _check_optimize_result(\n",
            "/usr/local/lib/python3.10/dist-packages/sklearn/linear_model/_logistic.py:458: ConvergenceWarning: lbfgs failed to converge (status=1):\n",
            "STOP: TOTAL NO. of ITERATIONS REACHED LIMIT.\n",
            "\n",
            "Increase the number of iterations (max_iter) or scale the data as shown in:\n",
            "    https://scikit-learn.org/stable/modules/preprocessing.html\n",
            "Please also refer to the documentation for alternative solver options:\n",
            "    https://scikit-learn.org/stable/modules/linear_model.html#logistic-regression\n",
            "  n_iter_i = _check_optimize_result(\n"
          ]
        },
        {
          "output_type": "stream",
          "name": "stdout",
          "text": [
            "Best parameters for Logistic Regression: {'classifier__C': 1, 'classifier__max_iter': 100}\n",
            "Logistic Regression model validation accuracy: 0.7568\n",
            "Validation classification report:\n",
            "              precision    recall  f1-score   support\n",
            "\n",
            "         NOT       0.75      0.95      0.84      1733\n",
            "         OFF       0.80      0.40      0.53       915\n",
            "\n",
            "    accuracy                           0.76      2648\n",
            "   macro avg       0.77      0.67      0.68      2648\n",
            "weighted avg       0.77      0.76      0.73      2648\n",
            "\n",
            "Logistic Regression model test accuracy: 0.8140\n",
            "Test classification report:\n",
            "              precision    recall  f1-score   support\n",
            "\n",
            "         NOT       0.83      0.94      0.88       620\n",
            "         OFF       0.76      0.49      0.59       240\n",
            "\n",
            "    accuracy                           0.81       860\n",
            "   macro avg       0.79      0.71      0.74       860\n",
            "weighted avg       0.81      0.81      0.80       860\n",
            "\n",
            "\n",
            "\n"
          ]
        }
      ]
    }
  ]
}